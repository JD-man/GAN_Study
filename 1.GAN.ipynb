{
  "nbformat": 4,
  "nbformat_minor": 0,
  "metadata": {
    "colab": {
      "name": "1-1.ipynb",
      "provenance": [],
      "collapsed_sections": [],
      "authorship_tag": "ABX9TyMOoYyfTOcisy67bGn/g/QE",
      "include_colab_link": true
    },
    "kernelspec": {
      "name": "python3",
      "display_name": "Python 3"
    },
    "accelerator": "GPU"
  },
  "cells": [
    {
      "cell_type": "markdown",
      "metadata": {
        "id": "view-in-github",
        "colab_type": "text"
      },
      "source": [
        "<a href=\"https://colab.research.google.com/github/JD-man/GAN_Study/blob/main/1.GAN.ipynb\" target=\"_parent\"><img src=\"https://colab.research.google.com/assets/colab-badge.svg\" alt=\"Open In Colab\"/></a>"
      ]
    },
    {
      "cell_type": "markdown",
      "metadata": {
        "id": "Z0-T7a7Vj1q7"
      },
      "source": [
        "### GAN은 신경망 하나가 아닌 두 개의 구분된 신경망을 사용해 실제와 유사한 데이터를 생성한다.\n",
        "\n"
      ]
    },
    {
      "cell_type": "markdown",
      "metadata": {
        "id": "mNKwX-NGkTtP"
      },
      "source": [
        "#GAN 이란?  \n",
        "\n",
        "* Generative Adversarial Network  \n",
        "생성적 적대 신경망 : 동시에 두 개의 모델을 훈련하는 머신러닝의 한 종류  \n",
        "생성자(Generator) : 가짜 데이터를 생성하도록 훈련  \n",
        "판별자(Discriminator) : 실제 샘플과 가짜 샘플을 구분하도록 훈련  \n",
        "\n",
        "\n",
        "* 생성적이라는 용어  \n",
        "모델의 목적은 새로운 데이터를 생성하는 것이다. 생성할 데이터는 훈련 세트에 따라 결정된다.  \n",
        "* 적대적이라는 용어  \n",
        "생성자와 판별자 사이의 경쟁구도를 나타낸다.\n",
        "*신경망이라는 용어  \n",
        "GAN은 머신러닝 모델의 한 종류이다.  \n",
        "GAN의 복잡성 정도에 따라 신경망의 종류가 달라진다."
      ]
    },
    {
      "cell_type": "markdown",
      "metadata": {
        "id": "gy_rdVcvkbTY"
      },
      "source": [
        "# GAN의 동작방식\n",
        "\n",
        "생성자가 더 정밀해질수록 판별자도 정밀해져야한다.  \n",
        "반대도 마찬가지.  \n",
        "예를들어 지폐 위조범(생성자)와 이를 잡으려는 형사(판별자)의 경쟁구도.\n",
        "\n",
        "* 생성자의 목표  \n",
        "훈련 데이터와 구별이 안 될 정도로 훈련 데이터셋의 특징이 잘 나타난 샘플을 생성하는 것.  \n",
        "실제로 생성자에게 주어지는 입력 값은 랜덤한 숫자로 구성된 벡터이다.\n",
        "\n",
        "* 판별자의 목표   \n",
        "여타 분류기처럼 자신의 예측과 실제 레이블 간의 차이를 통해 학습한다.  \n",
        "생성자가 더 그럴듯한 데이터를 만들수록 판별자도 진짜와 가짜를 더 잘 구별해 동시에 성능이 향상된다.  \n",
        "생성자가 만든 가짜 샘플과 훈련 데이터셋에 있는 실제 샘플을 입력으로 받는다."
      ]
    },
    {
      "cell_type": "markdown",
      "metadata": {
        "id": "DJ725ytjlf4M"
      },
      "source": [
        "# GAN 훈련하기\n",
        "\n",
        "* 판별자 훈련  \n",
        " 1. 훈련 데이터셋에서 랜덤하게 진짜 샘플 x를 선택  \n",
        " 2. 생성자는 새로운 랜덤잡음벡터 z를 얻어 가짜 샘플 x*를 합성  \n",
        " 3. 판별자 네트워크를 이용해 x와 x*를 분류  \n",
        " 4. 분류 오차 계산 및 역전파를 이용해 파라미터 업데이트 및 분류 오차 최소화.  \n",
        "\n",
        "* 생성자 훈련\n",
        " 1. 랜덤잡음벡터 z에서 가짜 샘플 x*합성\n",
        " 2. 판별자 네트워크를 이용해 x* 분류\n",
        " 3. 분류 오차 계산 및 역전파를 이용해 판별자의 분류 오차를 최대화."
      ]
    },
    {
      "cell_type": "markdown",
      "metadata": {
        "id": "Uikslc85locf"
      },
      "source": [
        "# 균형에 도달하기\n",
        "\n",
        "GAN 훈련이 완료되는 시점을 어떻게 알 수 있는가?  \n",
        "일반적인 신경망에서는 훈련과 검증 세트의 분류 오류를 측정하고 검증 오류가  \n",
        "나빠지면 과대적합을 피하기 위해 훈련을 중단한다.\n",
        "\n",
        "게임이론의 제로섬게임 : 한 사람의 이득이 곧 다른 사람의 손해가 됨.  \n",
        "제로섬 게임에서 참가자 모두 자신의 상황을 더 개선할 수 없거나 자신의 행위를  \n",
        " 변경해 이익을 볼 수 없는 시점에서 내시균형에 도달한다.\n",
        "\n",
        "GAN의 내시균형 (Nash equilibrium)  \n",
        "생성자가 훈련 데이터셋과 구별이 안 되는 데이터를 생성한다.  \n",
        "판별자의 최선이 50:50 확률로 진짜가짜를 추측하는 것이면 내시균형에 도달한다.  \n",
        "균형에 도달하면 GAN은 수렴 (converged) 했다고 말한다.  \n",
        "\n",
        "GAN은 비볼록 게임 (nonconvex game)이므로 내시 균형을 찾기가 불가능에 가깝다."
      ]
    }
  ]
}